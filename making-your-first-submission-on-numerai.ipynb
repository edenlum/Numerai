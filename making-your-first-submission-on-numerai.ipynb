{
 "cells": [
  {
   "cell_type": "markdown",
   "metadata": {
    "colab_type": "text",
    "id": "view-in-github"
   },
   "source": [
    "<a href=\"https://colab.research.google.com/github/edenlum/Numerai/blob/main/making-your-first-submission-on-numerai.ipynb\" target=\"_parent\"><img src=\"https://colab.research.google.com/assets/colab-badge.svg\" alt=\"Open In Colab\"/></a>"
   ]
  },
  {
   "cell_type": "markdown",
   "metadata": {
    "id": "RUD4ylfaLZA6"
   },
   "source": [
    "# Making your first submission on Numerai\n",
    "\n",
    "## Introduction \n",
    "This tutorial will go over how to create your first submission on Numerai.\n",
    "\n",
    "## Overview\n",
    "\n",
    "1. Using this notebook\n",
    "2. Download the datasets\n",
    "3. Train your first model\n",
    "4. Generate your first predictions\n",
    "4. Make your first submission\n",
    "\n",
    "\n",
    "---\n"
   ]
  },
  {
   "cell_type": "markdown",
   "metadata": {
    "id": "dioJyoTnxEm3"
   },
   "source": [
    "\n",
    "## 1. Using this notebook \n",
    "\n",
    "This is an interactive notebook. You can execute code in each cell by pressing `shift+enter`. This requires you to login with your Google account.\n",
    "\n",
    "In order to make changes, you need to make a copy by `File -> Save a copy in Drive`.\n",
    "\n",
    "Let's start off by installing and importing our dependencies."
   ]
  },
  {
   "cell_type": "code",
   "execution_count": 14,
   "metadata": {
    "id": "zDKQ_zqwTBf6"
   },
   "outputs": [
    {
     "name": "stdout",
     "output_type": "stream",
     "text": [
      "Requirement already satisfied: pandas in c:\\users\\user\\anaconda3\\lib\\site-packages (1.2.4)\n",
      "Requirement already satisfied: sklearn in c:\\users\\user\\anaconda3\\lib\\site-packages (0.0)\n",
      "Requirement already satisfied: numerapi in c:\\users\\user\\anaconda3\\lib\\site-packages (2.9.2)\n",
      "Requirement already satisfied: halo in c:\\users\\user\\anaconda3\\lib\\site-packages (0.0.31)\n",
      "Requirement already satisfied: torch in c:\\users\\user\\anaconda3\\lib\\site-packages (1.10.0)\n",
      "Requirement already satisfied: log-symbols>=0.0.14 in c:\\users\\user\\anaconda3\\lib\\site-packages (from halo) (0.0.14)\n",
      "Requirement already satisfied: spinners>=0.0.24 in c:\\users\\user\\anaconda3\\lib\\site-packages (from halo) (0.0.24)\n"
     ]
    }
   ],
   "source": [
    "# install dependencies\n",
    "!pip install pandas sklearn numerapi halo torch"
   ]
  },
  {
   "cell_type": "code",
   "execution_count": 15,
   "metadata": {
    "id": "MaNpcfNkKUg_"
   },
   "outputs": [
    {
     "name": "stdout",
     "output_type": "stream",
     "text": [
      "\n",
      "Requirement already satisfied: scikit-learn in c:\\users\\user\\anaconda3\\lib\\site-packages (from sklearn) (0.24.1)\n",
      "Requirement already satisfied: typing-extensions in c:\\users\\user\\anaconda3\\lib\\site-packages (from torch) (3.7.4.3)\n",
      "Requirement already satisfied: idna<3,>=2.5 in c:\\users\\user\\anaconda3\\lib\\site-packages (from requests->numerapi) (2.10)\n",
      "Requirement already satisfied: chardet<5,>=3.0.2 in c:\\users\\user\\anaconda3\\lib\\site-packages (from requests->numerapi) (4.0.0)\n",
      "Requirement already satisfied: urllib3<1.27,>=1.21.1 in c:\\users\\user\\anaconda3\\lib\\site-packages (from requests->numerapi) (1.26.4)\n",
      "Requirement already satisfied: certifi>=2017.4.17 in c:\\users\\user\\anaconda3\\lib\\site-packages (from requests->numerapi) (2021.10.8)\n",
      "Requirement already satisfied: threadpoolctl>=2.0.0 in c:\\users\\user\\anaconda3\\lib\\site-packages (from scikit-learn->sklearn) (2.1.0)\n",
      "Requirement already satisfied: scipy>=0.19.1 in c:\\users\\user\\anaconda3\\lib\\site-packages (from scikit-learn->sklearn) (1.6.2)\n",
      "Requirement already satisfied: joblib>=0.11 in c:\\users\\user\\anaconda3\\lib\\site-packages (from scikit-learn->sklearn) (1.0.1)\n"
     ]
    }
   ],
   "source": [
    "# import dependencies\n",
    "import pandas as pd\n",
    "import numerapi\n",
    "import sklearn.linear_model\n",
    "import utils\n",
    "import numpy as np"
   ]
  },
  {
   "cell_type": "markdown",
   "metadata": {
    "id": "5uUN-aE_08kW"
   },
   "source": [
    "## 2. Download the datasets\n",
    "\n",
    "### Datasets \n",
    "*   `training_data` is used to train your model\n",
    "*   `tournament_data` is used to evaluate your model\n",
    "\n",
    "### Column descriptions\n",
    "*   id: a randomized id that corresponds to a stock \n",
    "*   era: a period of time\n",
    "*   data_type: either `train`, `validation`, `test`, or `live` \n",
    "*   feature_*: abstract financial features of the stock \n",
    "*   target: abstract measure of stock performance\n",
    "\n",
    "\n"
   ]
  },
  {
   "cell_type": "code",
   "execution_count": null,
   "metadata": {
    "colab": {
     "base_uri": "https://localhost:8080/",
     "height": 253
    },
    "id": "EyB8NsbUNNWR",
    "outputId": "a8d06706-0fbc-4b5c-deb2-29f5e5947a8a"
   },
   "outputs": [],
   "source": [
    "# download the latest training dataset (takes around 30s)\n",
    "training_data = pd.read_csv(\"https://numerai-public-datasets.s3-us-west-2.amazonaws.com/latest_numerai_training_data.csv.xz\")\n",
    "training_data.head()"
   ]
  },
  {
   "cell_type": "code",
   "execution_count": null,
   "metadata": {
    "colab": {
     "base_uri": "https://localhost:8080/",
     "height": 253
    },
    "id": "6GkhBurt73Fi",
    "outputId": "aeb5461c-5abd-41e2-92d0-3c151faf8eff"
   },
   "outputs": [],
   "source": [
    "# download the latest tournament dataset (takes around 30s)\n",
    "tournament_data = pd.read_csv(\"https://numerai-public-datasets.s3-us-west-2.amazonaws.com/latest_numerai_tournament_data.csv.xz\")\n",
    "tournament_data.head()"
   ]
  },
  {
   "cell_type": "markdown",
   "metadata": {
    "id": "c3Fcz-PpHYez"
   },
   "source": [
    "## 3. Train your first model\n",
    "Let's create a basic model using sklearn's linear regression."
   ]
  },
  {
   "cell_type": "code",
   "execution_count": null,
   "metadata": {
    "id": "ESazJMMzN--g"
   },
   "outputs": [],
   "source": [
    "# find only the feature columns\n",
    "feature_cols = training_data.columns[training_data.columns.str.startswith('feature')]"
   ]
  },
  {
   "cell_type": "code",
   "execution_count": null,
   "metadata": {
    "id": "5Bmbqi4YKY2Z"
   },
   "outputs": [],
   "source": [
    "# select those columns out of the training dataset\n",
    "training_features = training_data[feature_cols]"
   ]
  },
  {
   "cell_type": "code",
   "execution_count": null,
   "metadata": {},
   "outputs": [],
   "source": [
    "from sklearn.model_selection import train_test_split\n",
    "\n",
    "x = training_features\n",
    "y = training_data[['target']]\n",
    "\n",
    "X_train, X_val, y_train, y_val = train_test_split(x, y, test_size=0.2, random_state=42)"
   ]
  },
  {
   "cell_type": "code",
   "execution_count": null,
   "metadata": {
    "colab": {
     "base_uri": "https://localhost:8080/",
     "height": 34
    },
    "id": "2AuNXbVmRQDp",
    "outputId": "d88d95fd-09f7-47ac-9ee7-3e0bacd47cae"
   },
   "outputs": [],
   "source": [
    "# create a model and fit the training data (~30 sec to run)\n",
    "basic_model = sklearn.linear_model.LinearRegression()\n",
    "basic_model.fit(training_features, training_data.target)"
   ]
  },
  {
   "cell_type": "code",
   "execution_count": 9,
   "metadata": {},
   "outputs": [
    {
     "name": "stdout",
     "output_type": "stream",
     "text": [
      "[1,  2000] loss: 0.052\n",
      "[2,  2000] loss: 0.050\n",
      "Finished Training\n",
      "\r"
     ]
    }
   ],
   "source": [
    "import torch\n",
    "import torch.utils.data as data_utils\n",
    "from models import *\n",
    "\n",
    "ff = FeedForward(310, 1)\n",
    "train(ff, X_train, y_train, 2, 128)"
   ]
  },
  {
   "cell_type": "markdown",
   "metadata": {},
   "source": [
    "save the model:"
   ]
  },
  {
   "cell_type": "code",
   "execution_count": 10,
   "metadata": {},
   "outputs": [
    {
     "name": "stdout",
     "output_type": "stream",
     "text": [
      "\r"
     ]
    }
   ],
   "source": [
    "PATH = './my_model.pth'\n",
    "torch.save(ff.state_dict(), PATH)"
   ]
  },
  {
   "cell_type": "markdown",
   "metadata": {},
   "source": [
    "check the model:"
   ]
  },
  {
   "cell_type": "code",
   "execution_count": 12,
   "metadata": {},
   "outputs": [
    {
     "name": "stdout",
     "output_type": "stream",
     "text": [
      "Accuracy of the network on the 10000 test images: 50 %\n",
      "\r"
     ]
    }
   ],
   "source": [
    "net = FeedForward(310, 1)\n",
    "net.load_state_dict(torch.load(PATH))\n",
    "\n",
    "eval(net, X_val, y_val)"
   ]
  },
  {
   "cell_type": "code",
   "execution_count": 17,
   "metadata": {},
   "outputs": [
    {
     "data": {
      "text/plain": [
       "501920"
      ]
     },
     "execution_count": 17,
     "metadata": {},
     "output_type": "execute_result"
    },
    {
     "name": "stdout",
     "output_type": "stream",
     "text": [
      "\r"
     ]
    }
   ],
   "source": [
    "loader = x_y_to_dataloader(X_val, y_val, 32)\n",
    "len(loader)*32*5"
   ]
  },
  {
   "cell_type": "markdown",
   "metadata": {
    "id": "Uxx5pLIGIUvN"
   },
   "source": [
    "## 4. Generate your first predictions\n",
    "Now that we have a trained model, we can use it to make predictions on the tournament data.\n",
    "\n"
   ]
  },
  {
   "cell_type": "code",
   "execution_count": 9,
   "metadata": {
    "id": "HIcmOiJYSmJI"
   },
   "outputs": [
    {
     "name": "stdout",
     "output_type": "stream",
     "text": [
      "\r"
     ]
    }
   ],
   "source": [
    "# select the feature columns from the tournament data\n",
    "live_features = tournament_data[feature_cols]"
   ]
  },
  {
   "cell_type": "code",
   "execution_count": null,
   "metadata": {
    "id": "t4CoaCgbKcSN"
   },
   "outputs": [
    {
     "name": "stdout",
     "output_type": "stream",
     "text": [
      "\r"
     ]
    }
   ],
   "source": [
    "# predict the target on the live features\n",
    "predictions = basic_model.predict(live_features)\n",
    "# np.round(predictions*4)/4"
   ]
  },
  {
   "cell_type": "code",
   "execution_count": null,
   "metadata": {},
   "outputs": [
    {
     "name": "stdout",
     "output_type": "stream",
     "text": [
      "\r"
     ]
    }
   ],
   "source": [
    "def get_corr(outputs, targets):\n",
    "  df_outputs = pd.DataFrame(outputs)\n",
    "  df_targets = pd.DataFrame(targets)\n",
    "  ranked_outputs = df_outputs.rank(pct=True, method=\"first\")\n",
    "  corr = np.corrcoef(df_targets.iloc[:,0], ranked_outputs.iloc[:,0])[0, 1]\n",
    "  return corr\n"
   ]
  },
  {
   "cell_type": "code",
   "execution_count": null,
   "metadata": {},
   "outputs": [],
   "source": [
    "get_corr(predictions, )"
   ]
  },
  {
   "cell_type": "code",
   "execution_count": null,
   "metadata": {
    "colab": {
     "base_uri": "https://localhost:8080/",
     "height": 204
    },
    "id": "4L4BFeAzTTDe",
    "outputId": "692b78f5-20b1-4431-8d53-ceef876f8101"
   },
   "outputs": [
    {
     "data": {
      "text/html": [
       "<div>\n",
       "<style scoped>\n",
       "    .dataframe tbody tr th:only-of-type {\n",
       "        vertical-align: middle;\n",
       "    }\n",
       "\n",
       "    .dataframe tbody tr th {\n",
       "        vertical-align: top;\n",
       "    }\n",
       "\n",
       "    .dataframe thead th {\n",
       "        text-align: right;\n",
       "    }\n",
       "</style>\n",
       "<table border=\"1\" class=\"dataframe\">\n",
       "  <thead>\n",
       "    <tr style=\"text-align: right;\">\n",
       "      <th></th>\n",
       "      <th>id</th>\n",
       "      <th>prediction</th>\n",
       "    </tr>\n",
       "  </thead>\n",
       "  <tbody>\n",
       "    <tr>\n",
       "      <th>0</th>\n",
       "      <td>n0003aa52cab36c2</td>\n",
       "      <td>0.472981</td>\n",
       "    </tr>\n",
       "    <tr>\n",
       "      <th>1</th>\n",
       "      <td>n000920ed083903f</td>\n",
       "      <td>0.492854</td>\n",
       "    </tr>\n",
       "    <tr>\n",
       "      <th>2</th>\n",
       "      <td>n0038e640522c4a6</td>\n",
       "      <td>0.556868</td>\n",
       "    </tr>\n",
       "    <tr>\n",
       "      <th>3</th>\n",
       "      <td>n004ac94a87dc54b</td>\n",
       "      <td>0.496384</td>\n",
       "    </tr>\n",
       "    <tr>\n",
       "      <th>4</th>\n",
       "      <td>n0052fe97ea0c05f</td>\n",
       "      <td>0.497034</td>\n",
       "    </tr>\n",
       "  </tbody>\n",
       "</table>\n",
       "</div>"
      ],
      "text/plain": [
       "                 id  prediction\n",
       "0  n0003aa52cab36c2              0.472981\n",
       "1  n000920ed083903f              0.492854\n",
       "2  n0038e640522c4a6              0.556868\n",
       "3  n004ac94a87dc54b              0.496384\n",
       "4  n0052fe97ea0c05f              0.497034"
      ]
     },
     "execution_count": 35,
     "metadata": {
      "tags": []
     },
     "output_type": "execute_result"
    }
   ],
   "source": [
    "# predictions must have an `id` column and a `prediction` column\n",
    "predictions_df = tournament_data[\"id\"].to_frame()\n",
    "predictions_df[\"prediction\"] = predictions\n",
    "predictions_df.head()"
   ]
  },
  {
   "cell_type": "markdown",
   "metadata": {
    "id": "AQ0sgtPiLDys"
   },
   "source": [
    "## 5. Make your first submission\n",
    "To enter the tournament, we must submit the predictions back to Numerai. We will use the `numerapi` library to do this."
   ]
  },
  {
   "cell_type": "code",
   "execution_count": 12,
   "metadata": {
    "id": "rEfqpxcEWDdK"
   },
   "outputs": [],
   "source": [
    "# Get your API keys and model_id from https://numer.ai/notebook\n",
    "public_id = \"FZZLTZDEHH4T7CHF23LYMXQGSVQBMRD2\"\n",
    "secret_key = \"7Q3PCUDJAUDTW74LG7PMNPIYSTKK542UNENVO63GKJIGDP5OIY6UEZA7AA4MBJ4U\"\n",
    "model_id = \"fef64998-7bbe-45e5-9175-b088c16ab625\"\n",
    "napi = numerapi.NumerAPI(public_id=public_id, secret_key=secret_key)"
   ]
  },
  {
   "cell_type": "code",
   "execution_count": 13,
   "metadata": {
    "colab": {
     "base_uri": "https://localhost:8080/"
    },
    "id": "WeAIJHaoW3VU",
    "outputId": "9a076632-bbe5-4d4b-9667-5bfa78de546b"
   },
   "outputs": [
    {
     "name": "stderr",
     "output_type": "stream",
     "text": [
      "2021-11-05 21:17:14,966 INFO numerapi.base_api: uploading predictions...\n"
     ]
    }
   ],
   "source": [
    "# Upload your predictions\n",
    "predictions_df.to_csv(\"predictions.csv\", index=False)\n",
    "submission_id = napi.upload_predictions(\"predictions.csv\", model_id=model_id)"
   ]
  },
  {
   "cell_type": "markdown",
   "metadata": {
    "id": "_Jc2NgEgQEKF"
   },
   "source": [
    "# Done 🚀\n",
    "Good job! You just made your first submission on Numerai!\n",
    "\n",
    "Head back over to https://numer.ai/notebook to continue."
   ]
  }
 ],
 "metadata": {
  "colab": {
   "collapsed_sections": [],
   "include_colab_link": true,
   "name": "Making your first submission on Numerai",
   "provenance": []
  },
  "kernelspec": {
   "display_name": "Python 3",
   "language": "python",
   "name": "python3"
  },
  "language_info": {
   "codemirror_mode": {
    "name": "ipython",
    "version": 3
   },
   "file_extension": ".py",
   "mimetype": "text/x-python",
   "name": "python",
   "nbconvert_exporter": "python",
   "pygments_lexer": "ipython3",
   "version": "3.8.8"
  }
 },
 "nbformat": 4,
 "nbformat_minor": 4
}
