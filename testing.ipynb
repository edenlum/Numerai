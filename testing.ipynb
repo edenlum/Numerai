{
 "cells": [
  {
   "cell_type": "code",
   "execution_count": 50,
   "metadata": {},
   "outputs": [],
   "source": [
    "datalink = \"https://numerai-public-datasets.s3-us-west-2.amazonaws.com\""
   ]
  },
  {
   "cell_type": "code",
   "execution_count": 51,
   "metadata": {},
   "outputs": [
    {
     "name": "stdout",
     "output_type": "stream",
     "text": [
      "Requirement already satisfied: urllib3 in c:\\users\\edenl\\anaconda3\\lib\\site-packages (1.26.4)\n"
     ]
    }
   ],
   "source": [
    "!pip install urllib3"
   ]
  },
  {
   "cell_type": "code",
   "execution_count": 53,
   "metadata": {},
   "outputs": [
    {
     "data": {
      "text/plain": [
       "[OrderedDict([('Key', 'latest_numerai_datasets.zip'),\n",
       "              ('LastModified', '2021-11-13T17:56:12.000Z'),\n",
       "              ('ETag', '\"2bd53b54a6940cc4e5f1d5c0389eecf9-52\"'),\n",
       "              ('Size', '430041212'),\n",
       "              ('StorageClass', 'STANDARD')]),\n",
       " OrderedDict([('Key', 'latest_numerai_example_predictions_data.csv'),\n",
       "              ('LastModified', '2021-11-13T17:59:31.000Z'),\n",
       "              ('ETag', '\"e078b3f79991f1400fcd25f298cee31e-7\"'),\n",
       "              ('Size', '51148652'),\n",
       "              ('StorageClass', 'STANDARD')]),\n",
       " OrderedDict([('Key', 'latest_numerai_example_predictions_data.csv.xz'),\n",
       "              ('LastModified', '2021-11-13T17:59:33.000Z'),\n",
       "              ('ETag', '\"5ed05b8c9cd4d5d559a982a683777a7e-3\"'),\n",
       "              ('Size', '21087032'),\n",
       "              ('StorageClass', 'STANDARD')]),\n",
       " OrderedDict([('Key', 'latest_numerai_example_predictions_data.parquet'),\n",
       "              ('LastModified', '2021-11-13T17:59:35.000Z'),\n",
       "              ('ETag', '\"de241057f57537ffe32228d0495ce4a1-6\"'),\n",
       "              ('Size', '45304323'),\n",
       "              ('StorageClass', 'STANDARD')]),\n",
       " OrderedDict([('Key', 'latest_numerai_live_data.csv'),\n",
       "              ('LastModified', '2021-11-13T17:56:23.000Z'),\n",
       "              ('ETag', '\"b3e6bb5caf65a36f656fe696d2603781\"'),\n",
       "              ('Size', '7462797'),\n",
       "              ('StorageClass', 'STANDARD')]),\n",
       " OrderedDict([('Key', 'latest_numerai_live_data.csv.xz'),\n",
       "              ('LastModified', '2021-11-13T17:56:25.000Z'),\n",
       "              ('ETag', '\"cddbc72b59e1c948a7af2e29b5a6576c\"'),\n",
       "              ('Size', '634404'),\n",
       "              ('StorageClass', 'STANDARD')]),\n",
       " OrderedDict([('Key', 'latest_numerai_live_data.parquet'),\n",
       "              ('LastModified', '2021-11-13T17:56:25.000Z'),\n",
       "              ('ETag', '\"576e0a3b5653f5642b2c083f95a4f66a\"'),\n",
       "              ('Size', '1047210'),\n",
       "              ('StorageClass', 'STANDARD')]),\n",
       " OrderedDict([('Key', 'latest_numerai_max_test_era_data.csv'),\n",
       "              ('LastModified', '2021-11-13T17:58:07.000Z'),\n",
       "              ('ETag', '\"be6aabdd1f4c2ea085f283beab2c6f92\"'),\n",
       "              ('Size', '7458255'),\n",
       "              ('StorageClass', 'STANDARD')]),\n",
       " OrderedDict([('Key', 'latest_numerai_max_test_era_data.csv.xz'),\n",
       "              ('LastModified', '2021-11-13T17:58:09.000Z'),\n",
       "              ('ETag', '\"501ab67d395a19ae1377e77c5f490ce0\"'),\n",
       "              ('Size', '633416'),\n",
       "              ('StorageClass', 'STANDARD')]),\n",
       " OrderedDict([('Key', 'latest_numerai_max_test_era_data.parquet'),\n",
       "              ('LastModified', '2021-11-13T17:58:09.000Z'),\n",
       "              ('ETag', '\"3a9f31d188d64c2e0f0e74e03d3389d6\"'),\n",
       "              ('Size', '1045918'),\n",
       "              ('StorageClass', 'STANDARD')]),\n",
       " OrderedDict([('Key', 'latest_numerai_test_data.csv'),\n",
       "              ('LastModified', '2021-11-13T17:56:57.000Z'),\n",
       "              ('ETag', '\"4221163702786b3a1a6302e076c84d9c-285\"'),\n",
       "              ('Size', '2383985907'),\n",
       "              ('StorageClass', 'STANDARD')]),\n",
       " OrderedDict([('Key', 'latest_numerai_test_data.csv.xz'),\n",
       "              ('LastModified', '2021-11-13T17:57:53.000Z'),\n",
       "              ('ETag', '\"21417da1e5c5da3e01197311fe3c576a-20\"'),\n",
       "              ('Size', '162831832'),\n",
       "              ('StorageClass', 'STANDARD')]),\n",
       " OrderedDict([('Key', 'latest_numerai_test_data.parquet'),\n",
       "              ('LastModified', '2021-11-13T17:57:59.000Z'),\n",
       "              ('ETag', '\"b24146fa3c63ab20a7919ab17862dee6-30\"'),\n",
       "              ('Size', '249306348'),\n",
       "              ('StorageClass', 'STANDARD')]),\n",
       " OrderedDict([('Key', 'latest_numerai_tournament_data.csv'),\n",
       "              ('LastModified', '2021-11-13T17:58:10.000Z'),\n",
       "              ('ETag', '\"666b6d36794da9b3b757152846e20c47-309\"'),\n",
       "              ('Size', '2584107492'),\n",
       "              ('StorageClass', 'STANDARD')]),\n",
       " OrderedDict([('Key', 'latest_numerai_tournament_data.csv.xz'),\n",
       "              ('LastModified', '2021-11-13T17:59:08.000Z'),\n",
       "              ('ETag', '\"89740a154c2268ba8136f25c5564c10d-22\"'),\n",
       "              ('Size', '178661080'),\n",
       "              ('StorageClass', 'STANDARD')]),\n",
       " OrderedDict([('Key', 'latest_numerai_tournament_data.parquet'),\n",
       "              ('LastModified', '2021-11-13T17:59:14.000Z'),\n",
       "              ('ETag', '\"8e5359468a446f7264f4e0ea219fd1a3-31\"'),\n",
       "              ('Size', '254937340'),\n",
       "              ('StorageClass', 'STANDARD')]),\n",
       " OrderedDict([('Key', 'latest_numerai_tournament_ids_data.csv'),\n",
       "              ('LastModified', '2021-11-13T17:59:24.000Z'),\n",
       "              ('ETag', '\"a8a83b850f3096ebc518e7f3b76e45e7-4\"'),\n",
       "              ('Size', '31616739'),\n",
       "              ('StorageClass', 'STANDARD')]),\n",
       " OrderedDict([('Key', 'latest_numerai_tournament_ids_data.csv.xz'),\n",
       "              ('LastModified', '2021-11-13T17:59:27.000Z'),\n",
       "              ('ETag', '\"6c7ddd93fca7c5c3cffb5a61f9174cc8-2\"'),\n",
       "              ('Size', '13565916'),\n",
       "              ('StorageClass', 'STANDARD')]),\n",
       " OrderedDict([('Key', 'latest_numerai_tournament_ids_data.parquet'),\n",
       "              ('LastModified', '2021-11-13T17:59:29.000Z'),\n",
       "              ('ETag', '\"0223986b5e9378f8ccdfef9adc82b314-5\"'),\n",
       "              ('Size', '37306946'),\n",
       "              ('StorageClass', 'STANDARD')]),\n",
       " OrderedDict([('Key', 'latest_numerai_training_data.csv'),\n",
       "              ('LastModified', '2021-11-13T17:56:25.000Z'),\n",
       "              ('ETag', '\"baa75c8d718856e73f78c9e472e64b1e-84\"'),\n",
       "              ('Size', '697396113'),\n",
       "              ('StorageClass', 'STANDARD')]),\n",
       " OrderedDict([('Key', 'latest_numerai_training_data.csv.xz'),\n",
       "              ('LastModified', '2021-11-13T17:56:42.000Z'),\n",
       "              ('ETag', '\"9889818ec2ebce54196b503d4893925b-7\"'),\n",
       "              ('Size', '54845776'),\n",
       "              ('StorageClass', 'STANDARD')]),\n",
       " OrderedDict([('Key', 'latest_numerai_training_data.parquet'),\n",
       "              ('LastModified', '2021-11-13T17:56:46.000Z'),\n",
       "              ('ETag', '\"f2fe23cedb6dff67cf8abc72dc026f06-9\"'),\n",
       "              ('Size', '69175963'),\n",
       "              ('StorageClass', 'STANDARD')]),\n",
       " OrderedDict([('Key', 'latest_numerai_validation_data.csv'),\n",
       "              ('LastModified', '2021-11-13T17:56:48.000Z'),\n",
       "              ('ETag', '\"f26c79b4ae8132a9eb7e386387eaa2ae-23\"'),\n",
       "              ('Size', '192671390'),\n",
       "              ('StorageClass', 'STANDARD')]),\n",
       " OrderedDict([('Key', 'latest_numerai_validation_data.csv.xz'),\n",
       "              ('LastModified', '2021-11-13T17:56:54.000Z'),\n",
       "              ('ETag', '\"4cbbdc928397958b79c3fd98b80d51fa-2\"'),\n",
       "              ('Size', '15254940'),\n",
       "              ('StorageClass', 'STANDARD')]),\n",
       " OrderedDict([('Key', 'latest_numerai_validation_data.parquet'),\n",
       "              ('LastModified', '2021-11-13T17:56:55.000Z'),\n",
       "              ('ETag', '\"ad228dce9cf3ee2205f5d1a0b975b7d8-3\"'),\n",
       "              ('Size', '20651189'),\n",
       "              ('StorageClass', 'STANDARD')])]"
      ]
     },
     "execution_count": 53,
     "metadata": {},
     "output_type": "execute_result"
    }
   ],
   "source": [
    "import requests\n",
    "import xmltodict\n",
    "from dataclasses import dataclass\n",
    "import pandas as pd\n",
    "from datetime import datetime\n",
    "\n",
    "@dataclass\n",
    "class NumeraiData:\n",
    "    name: str\n",
    "    data: pd.DataFrame\n",
    "    last_modified: datetime\n",
    "        \n",
    "\n",
    "url = datalink\n",
    "response = requests.get(url)\n",
    "data = xmltodict.parse(response.content)\n",
    "data['ListBucketResult']['Contents']"
   ]
  },
  {
   "cell_type": "code",
   "execution_count": 13,
   "metadata": {},
   "outputs": [
    {
     "data": {
      "text/plain": [
       "datetime.datetime(2021, 11, 13, 10, 41, 5, 406692)"
      ]
     },
     "execution_count": 13,
     "metadata": {},
     "output_type": "execute_result"
    }
   ],
   "source": [
    "datetime.now()"
   ]
  },
  {
   "cell_type": "code",
   "execution_count": 21,
   "metadata": {},
   "outputs": [],
   "source": [
    "s = '2021-11-06T17:56:29.001'"
   ]
  },
  {
   "cell_type": "code",
   "execution_count": 19,
   "metadata": {},
   "outputs": [
    {
     "data": {
      "text/plain": [
       "datetime.datetime(2021, 11, 6, 17, 56, 29, 1000)"
      ]
     },
     "execution_count": 19,
     "metadata": {},
     "output_type": "execute_result"
    }
   ],
   "source": [
    "datetime.fromisoformat(s)"
   ]
  },
  {
   "cell_type": "code",
   "execution_count": 22,
   "metadata": {},
   "outputs": [
    {
     "data": {
      "text/plain": [
       "NumeraiData(name='test', data=   0\n",
       "0  1\n",
       "1  2\n",
       "2  3, last_modified=datetime.datetime(2021, 11, 6, 17, 56, 29, 1000))"
      ]
     },
     "execution_count": 22,
     "metadata": {},
     "output_type": "execute_result"
    }
   ],
   "source": [
    "NumeraiData(\"test\", pd.DataFrame([1,2,3]), datetime.fromisoformat(s))\n",
    "df = pd.DataFrame([1,2,3])\n",
    "df."
   ]
  },
  {
   "cell_type": "code",
   "execution_count": 26,
   "metadata": {},
   "outputs": [],
   "source": [
    "import os\n",
    "import time"
   ]
  },
  {
   "cell_type": "code",
   "execution_count": 71,
   "metadata": {},
   "outputs": [
    {
     "data": {
      "text/plain": [
       "51.8828718474672"
      ]
     },
     "execution_count": 71,
     "metadata": {},
     "output_type": "execute_result"
    }
   ],
   "source": [
    "(os.path.getmtime('utils.py'))/(24*60*60)/365"
   ]
  },
  {
   "cell_type": "code",
   "execution_count": 68,
   "metadata": {},
   "outputs": [],
   "source": [
    "def split_last_word(sentence, delimiter=\" \"):\n",
    "    \"\"\" returns the sentence without the last word \"\"\"\n",
    "    l = sentence.split(delimiter)\n",
    "    return delimiter.join(l[:-1]), l[-1]\n",
    "\n",
    "def get_last_modified(url):\n",
    "    datalink, name = split_last_word(url, \"/\")\n",
    "    response = requests.get(datalink)\n",
    "    data = xmltodict.parse(response.content)\n",
    "    dicts = data['ListBucketResult']['Contents']\n",
    "    last_modified = list(filter(lambda di: di['Key'] == name, dicts))[0]['LastModified']\n",
    "    return datetime.fromisoformat(last_modified[:-1])"
   ]
  },
  {
   "cell_type": "code",
   "execution_count": 75,
   "metadata": {},
   "outputs": [
    {
     "name": "stdout",
     "output_type": "stream",
     "text": [
      "https://numerai-public-datasets.s3-us-west-2.amazonaws.com latest_numerai_training_data.csv.xz\n",
      "2021-11-13 17:56:42\n"
     ]
    },
    {
     "data": {
      "text/plain": [
       "-1.7855399627514459"
      ]
     },
     "execution_count": 75,
     "metadata": {},
     "output_type": "execute_result"
    }
   ],
   "source": [
    "dt = get_last_modified(\"https://numerai-public-datasets.s3-us-west-2.amazonaws.com/latest_numerai_training_data.csv.xz\")\n",
    "print(dt)\n",
    "(dt.timestamp() - time.time())/(24*60*60)"
   ]
  },
  {
   "cell_type": "code",
   "execution_count": 78,
   "metadata": {},
   "outputs": [],
   "source": [
    "def download_data(url, name):\n",
    "    \"\"\"\n",
    "    Downloads data from a given url and saves it as a csv file.\n",
    "    If the file already exists, it checks if the previous download time is older than the last update.\n",
    "    If the file doesn't exist, it downloads the data and saves it to pickle with the new updated time.\n",
    "    \"\"\"\n",
    "    path = './data/' + name\n",
    "    # check if file exists\n",
    "    if os.path.isfile(path):\n",
    "        # check if file is older than last update\n",
    "        if os.path.getmtime(path) < get_last_modified(url).timestamp():\n",
    "            # download file\n",
    "            print('Downloading new data...')\n",
    "            df = pd.read_csv(url)\n",
    "            # save file\n",
    "            df.to_pickle(path)\n",
    "            print('New data downloaded.')\n",
    "            return df\n",
    "        else:\n",
    "            print('Data is up to date.')\n",
    "            df = pd.read_pickle(path)\n",
    "            return df\n",
    "    else:\n",
    "        # download file\n",
    "        print('Downloading data...')\n",
    "        df = pd.read_csv(url)\n",
    "        # save file\n",
    "        df.to_pickle(path)\n",
    "        print('Data downloaded.')\n",
    "        return df\n",
    " "
   ]
  },
  {
   "cell_type": "code",
   "execution_count": 81,
   "metadata": {},
   "outputs": [
    {
     "name": "stdout",
     "output_type": "stream",
     "text": [
      "https://numerai-public-datasets.s3-us-west-2.amazonaws.com latest_numerai_training_data.csv.xz\n",
      "Data is up to date.\n"
     ]
    },
    {
     "data": {
      "text/html": [
       "<div>\n",
       "<style scoped>\n",
       "    .dataframe tbody tr th:only-of-type {\n",
       "        vertical-align: middle;\n",
       "    }\n",
       "\n",
       "    .dataframe tbody tr th {\n",
       "        vertical-align: top;\n",
       "    }\n",
       "\n",
       "    .dataframe thead th {\n",
       "        text-align: right;\n",
       "    }\n",
       "</style>\n",
       "<table border=\"1\" class=\"dataframe\">\n",
       "  <thead>\n",
       "    <tr style=\"text-align: right;\">\n",
       "      <th></th>\n",
       "      <th>id</th>\n",
       "      <th>era</th>\n",
       "      <th>data_type</th>\n",
       "      <th>feature_intelligence1</th>\n",
       "      <th>feature_intelligence2</th>\n",
       "      <th>feature_intelligence3</th>\n",
       "      <th>feature_intelligence4</th>\n",
       "      <th>feature_intelligence5</th>\n",
       "      <th>feature_intelligence6</th>\n",
       "      <th>feature_intelligence7</th>\n",
       "      <th>...</th>\n",
       "      <th>feature_wisdom38</th>\n",
       "      <th>feature_wisdom39</th>\n",
       "      <th>feature_wisdom40</th>\n",
       "      <th>feature_wisdom41</th>\n",
       "      <th>feature_wisdom42</th>\n",
       "      <th>feature_wisdom43</th>\n",
       "      <th>feature_wisdom44</th>\n",
       "      <th>feature_wisdom45</th>\n",
       "      <th>feature_wisdom46</th>\n",
       "      <th>target</th>\n",
       "    </tr>\n",
       "  </thead>\n",
       "  <tbody>\n",
       "    <tr>\n",
       "      <th>0</th>\n",
       "      <td>n000315175b67977</td>\n",
       "      <td>era1</td>\n",
       "      <td>train</td>\n",
       "      <td>0.00</td>\n",
       "      <td>0.50</td>\n",
       "      <td>0.25</td>\n",
       "      <td>0.00</td>\n",
       "      <td>0.50</td>\n",
       "      <td>0.25</td>\n",
       "      <td>0.25</td>\n",
       "      <td>...</td>\n",
       "      <td>1.00</td>\n",
       "      <td>1.00</td>\n",
       "      <td>0.75</td>\n",
       "      <td>0.50</td>\n",
       "      <td>0.75</td>\n",
       "      <td>0.50</td>\n",
       "      <td>1.00</td>\n",
       "      <td>0.50</td>\n",
       "      <td>0.75</td>\n",
       "      <td>0.50</td>\n",
       "    </tr>\n",
       "    <tr>\n",
       "      <th>1</th>\n",
       "      <td>n0014af834a96cdd</td>\n",
       "      <td>era1</td>\n",
       "      <td>train</td>\n",
       "      <td>0.00</td>\n",
       "      <td>0.00</td>\n",
       "      <td>0.00</td>\n",
       "      <td>0.25</td>\n",
       "      <td>0.50</td>\n",
       "      <td>0.00</td>\n",
       "      <td>0.00</td>\n",
       "      <td>...</td>\n",
       "      <td>1.00</td>\n",
       "      <td>1.00</td>\n",
       "      <td>0.00</td>\n",
       "      <td>0.00</td>\n",
       "      <td>0.75</td>\n",
       "      <td>0.25</td>\n",
       "      <td>0.00</td>\n",
       "      <td>0.25</td>\n",
       "      <td>1.00</td>\n",
       "      <td>0.25</td>\n",
       "    </tr>\n",
       "    <tr>\n",
       "      <th>2</th>\n",
       "      <td>n001c93979ac41d4</td>\n",
       "      <td>era1</td>\n",
       "      <td>train</td>\n",
       "      <td>0.25</td>\n",
       "      <td>0.50</td>\n",
       "      <td>0.25</td>\n",
       "      <td>0.25</td>\n",
       "      <td>1.00</td>\n",
       "      <td>0.75</td>\n",
       "      <td>0.75</td>\n",
       "      <td>...</td>\n",
       "      <td>0.25</td>\n",
       "      <td>0.50</td>\n",
       "      <td>0.00</td>\n",
       "      <td>0.00</td>\n",
       "      <td>0.50</td>\n",
       "      <td>1.00</td>\n",
       "      <td>0.00</td>\n",
       "      <td>0.25</td>\n",
       "      <td>0.75</td>\n",
       "      <td>0.25</td>\n",
       "    </tr>\n",
       "    <tr>\n",
       "      <th>3</th>\n",
       "      <td>n0034e4143f22a13</td>\n",
       "      <td>era1</td>\n",
       "      <td>train</td>\n",
       "      <td>1.00</td>\n",
       "      <td>0.00</td>\n",
       "      <td>0.00</td>\n",
       "      <td>0.50</td>\n",
       "      <td>0.50</td>\n",
       "      <td>0.25</td>\n",
       "      <td>0.25</td>\n",
       "      <td>...</td>\n",
       "      <td>1.00</td>\n",
       "      <td>1.00</td>\n",
       "      <td>0.75</td>\n",
       "      <td>0.75</td>\n",
       "      <td>1.00</td>\n",
       "      <td>1.00</td>\n",
       "      <td>0.75</td>\n",
       "      <td>1.00</td>\n",
       "      <td>1.00</td>\n",
       "      <td>0.25</td>\n",
       "    </tr>\n",
       "    <tr>\n",
       "      <th>4</th>\n",
       "      <td>n00679d1a636062f</td>\n",
       "      <td>era1</td>\n",
       "      <td>train</td>\n",
       "      <td>0.25</td>\n",
       "      <td>0.25</td>\n",
       "      <td>0.25</td>\n",
       "      <td>0.25</td>\n",
       "      <td>0.00</td>\n",
       "      <td>0.25</td>\n",
       "      <td>0.50</td>\n",
       "      <td>...</td>\n",
       "      <td>0.75</td>\n",
       "      <td>0.75</td>\n",
       "      <td>0.25</td>\n",
       "      <td>0.50</td>\n",
       "      <td>0.75</td>\n",
       "      <td>0.00</td>\n",
       "      <td>0.50</td>\n",
       "      <td>0.25</td>\n",
       "      <td>0.75</td>\n",
       "      <td>0.75</td>\n",
       "    </tr>\n",
       "    <tr>\n",
       "      <th>...</th>\n",
       "      <td>...</td>\n",
       "      <td>...</td>\n",
       "      <td>...</td>\n",
       "      <td>...</td>\n",
       "      <td>...</td>\n",
       "      <td>...</td>\n",
       "      <td>...</td>\n",
       "      <td>...</td>\n",
       "      <td>...</td>\n",
       "      <td>...</td>\n",
       "      <td>...</td>\n",
       "      <td>...</td>\n",
       "      <td>...</td>\n",
       "      <td>...</td>\n",
       "      <td>...</td>\n",
       "      <td>...</td>\n",
       "      <td>...</td>\n",
       "      <td>...</td>\n",
       "      <td>...</td>\n",
       "      <td>...</td>\n",
       "      <td>...</td>\n",
       "    </tr>\n",
       "    <tr>\n",
       "      <th>501803</th>\n",
       "      <td>nff6a8a8feaeeb52</td>\n",
       "      <td>era120</td>\n",
       "      <td>train</td>\n",
       "      <td>0.50</td>\n",
       "      <td>0.50</td>\n",
       "      <td>0.25</td>\n",
       "      <td>0.00</td>\n",
       "      <td>0.00</td>\n",
       "      <td>0.50</td>\n",
       "      <td>0.75</td>\n",
       "      <td>...</td>\n",
       "      <td>0.50</td>\n",
       "      <td>0.50</td>\n",
       "      <td>0.75</td>\n",
       "      <td>0.50</td>\n",
       "      <td>0.50</td>\n",
       "      <td>0.75</td>\n",
       "      <td>0.25</td>\n",
       "      <td>0.25</td>\n",
       "      <td>0.25</td>\n",
       "      <td>0.50</td>\n",
       "    </tr>\n",
       "    <tr>\n",
       "      <th>501804</th>\n",
       "      <td>nff6af62a0996372</td>\n",
       "      <td>era120</td>\n",
       "      <td>train</td>\n",
       "      <td>1.00</td>\n",
       "      <td>0.00</td>\n",
       "      <td>0.00</td>\n",
       "      <td>1.00</td>\n",
       "      <td>0.50</td>\n",
       "      <td>0.75</td>\n",
       "      <td>0.75</td>\n",
       "      <td>...</td>\n",
       "      <td>1.00</td>\n",
       "      <td>1.00</td>\n",
       "      <td>1.00</td>\n",
       "      <td>1.00</td>\n",
       "      <td>1.00</td>\n",
       "      <td>0.00</td>\n",
       "      <td>0.75</td>\n",
       "      <td>1.00</td>\n",
       "      <td>1.00</td>\n",
       "      <td>0.75</td>\n",
       "    </tr>\n",
       "    <tr>\n",
       "      <th>501805</th>\n",
       "      <td>nff9288983b8c040</td>\n",
       "      <td>era120</td>\n",
       "      <td>train</td>\n",
       "      <td>0.75</td>\n",
       "      <td>0.50</td>\n",
       "      <td>0.50</td>\n",
       "      <td>0.50</td>\n",
       "      <td>0.25</td>\n",
       "      <td>0.50</td>\n",
       "      <td>0.25</td>\n",
       "      <td>...</td>\n",
       "      <td>1.00</td>\n",
       "      <td>0.75</td>\n",
       "      <td>0.25</td>\n",
       "      <td>1.00</td>\n",
       "      <td>1.00</td>\n",
       "      <td>1.00</td>\n",
       "      <td>0.25</td>\n",
       "      <td>0.00</td>\n",
       "      <td>0.00</td>\n",
       "      <td>0.25</td>\n",
       "    </tr>\n",
       "    <tr>\n",
       "      <th>501806</th>\n",
       "      <td>nffaab4e1cacc4b1</td>\n",
       "      <td>era120</td>\n",
       "      <td>train</td>\n",
       "      <td>0.25</td>\n",
       "      <td>0.25</td>\n",
       "      <td>0.25</td>\n",
       "      <td>0.50</td>\n",
       "      <td>0.00</td>\n",
       "      <td>1.00</td>\n",
       "      <td>1.00</td>\n",
       "      <td>...</td>\n",
       "      <td>0.75</td>\n",
       "      <td>0.75</td>\n",
       "      <td>0.75</td>\n",
       "      <td>0.75</td>\n",
       "      <td>0.75</td>\n",
       "      <td>0.50</td>\n",
       "      <td>0.50</td>\n",
       "      <td>0.25</td>\n",
       "      <td>0.75</td>\n",
       "      <td>0.50</td>\n",
       "    </tr>\n",
       "    <tr>\n",
       "      <th>501807</th>\n",
       "      <td>nffba5460b572cfa</td>\n",
       "      <td>era120</td>\n",
       "      <td>train</td>\n",
       "      <td>0.75</td>\n",
       "      <td>0.50</td>\n",
       "      <td>0.50</td>\n",
       "      <td>0.75</td>\n",
       "      <td>0.75</td>\n",
       "      <td>0.00</td>\n",
       "      <td>0.00</td>\n",
       "      <td>...</td>\n",
       "      <td>0.50</td>\n",
       "      <td>0.50</td>\n",
       "      <td>0.25</td>\n",
       "      <td>0.50</td>\n",
       "      <td>0.75</td>\n",
       "      <td>1.00</td>\n",
       "      <td>0.25</td>\n",
       "      <td>0.75</td>\n",
       "      <td>0.50</td>\n",
       "      <td>0.50</td>\n",
       "    </tr>\n",
       "  </tbody>\n",
       "</table>\n",
       "<p>501808 rows × 314 columns</p>\n",
       "</div>"
      ],
      "text/plain": [
       "                      id     era data_type  feature_intelligence1  \\\n",
       "0       n000315175b67977    era1     train                   0.00   \n",
       "1       n0014af834a96cdd    era1     train                   0.00   \n",
       "2       n001c93979ac41d4    era1     train                   0.25   \n",
       "3       n0034e4143f22a13    era1     train                   1.00   \n",
       "4       n00679d1a636062f    era1     train                   0.25   \n",
       "...                  ...     ...       ...                    ...   \n",
       "501803  nff6a8a8feaeeb52  era120     train                   0.50   \n",
       "501804  nff6af62a0996372  era120     train                   1.00   \n",
       "501805  nff9288983b8c040  era120     train                   0.75   \n",
       "501806  nffaab4e1cacc4b1  era120     train                   0.25   \n",
       "501807  nffba5460b572cfa  era120     train                   0.75   \n",
       "\n",
       "        feature_intelligence2  feature_intelligence3  feature_intelligence4  \\\n",
       "0                        0.50                   0.25                   0.00   \n",
       "1                        0.00                   0.00                   0.25   \n",
       "2                        0.50                   0.25                   0.25   \n",
       "3                        0.00                   0.00                   0.50   \n",
       "4                        0.25                   0.25                   0.25   \n",
       "...                       ...                    ...                    ...   \n",
       "501803                   0.50                   0.25                   0.00   \n",
       "501804                   0.00                   0.00                   1.00   \n",
       "501805                   0.50                   0.50                   0.50   \n",
       "501806                   0.25                   0.25                   0.50   \n",
       "501807                   0.50                   0.50                   0.75   \n",
       "\n",
       "        feature_intelligence5  feature_intelligence6  feature_intelligence7  \\\n",
       "0                        0.50                   0.25                   0.25   \n",
       "1                        0.50                   0.00                   0.00   \n",
       "2                        1.00                   0.75                   0.75   \n",
       "3                        0.50                   0.25                   0.25   \n",
       "4                        0.00                   0.25                   0.50   \n",
       "...                       ...                    ...                    ...   \n",
       "501803                   0.00                   0.50                   0.75   \n",
       "501804                   0.50                   0.75                   0.75   \n",
       "501805                   0.25                   0.50                   0.25   \n",
       "501806                   0.00                   1.00                   1.00   \n",
       "501807                   0.75                   0.00                   0.00   \n",
       "\n",
       "        ...  feature_wisdom38  feature_wisdom39  feature_wisdom40  \\\n",
       "0       ...              1.00              1.00              0.75   \n",
       "1       ...              1.00              1.00              0.00   \n",
       "2       ...              0.25              0.50              0.00   \n",
       "3       ...              1.00              1.00              0.75   \n",
       "4       ...              0.75              0.75              0.25   \n",
       "...     ...               ...               ...               ...   \n",
       "501803  ...              0.50              0.50              0.75   \n",
       "501804  ...              1.00              1.00              1.00   \n",
       "501805  ...              1.00              0.75              0.25   \n",
       "501806  ...              0.75              0.75              0.75   \n",
       "501807  ...              0.50              0.50              0.25   \n",
       "\n",
       "        feature_wisdom41  feature_wisdom42  feature_wisdom43  \\\n",
       "0                   0.50              0.75              0.50   \n",
       "1                   0.00              0.75              0.25   \n",
       "2                   0.00              0.50              1.00   \n",
       "3                   0.75              1.00              1.00   \n",
       "4                   0.50              0.75              0.00   \n",
       "...                  ...               ...               ...   \n",
       "501803              0.50              0.50              0.75   \n",
       "501804              1.00              1.00              0.00   \n",
       "501805              1.00              1.00              1.00   \n",
       "501806              0.75              0.75              0.50   \n",
       "501807              0.50              0.75              1.00   \n",
       "\n",
       "        feature_wisdom44  feature_wisdom45  feature_wisdom46  target  \n",
       "0                   1.00              0.50              0.75    0.50  \n",
       "1                   0.00              0.25              1.00    0.25  \n",
       "2                   0.00              0.25              0.75    0.25  \n",
       "3                   0.75              1.00              1.00    0.25  \n",
       "4                   0.50              0.25              0.75    0.75  \n",
       "...                  ...               ...               ...     ...  \n",
       "501803              0.25              0.25              0.25    0.50  \n",
       "501804              0.75              1.00              1.00    0.75  \n",
       "501805              0.25              0.00              0.00    0.25  \n",
       "501806              0.50              0.25              0.75    0.50  \n",
       "501807              0.25              0.75              0.50    0.50  \n",
       "\n",
       "[501808 rows x 314 columns]"
      ]
     },
     "execution_count": 81,
     "metadata": {},
     "output_type": "execute_result"
    }
   ],
   "source": [
    "download_data(\"https://numerai-public-datasets.s3-us-west-2.amazonaws.com/latest_numerai_training_data.csv.xz\", \"training_data\")"
   ]
  },
  {
   "cell_type": "code",
   "execution_count": 1,
   "metadata": {},
   "outputs": [],
   "source": [
    "import torch"
   ]
  },
  {
   "cell_type": "code",
   "execution_count": 77,
   "metadata": {},
   "outputs": [
    {
     "data": {
      "text/plain": [
       "tensor([0.5714, 0.1429, 0.2857, 0.8571, 1.0000, 0.7143, 0.4286])"
      ]
     },
     "execution_count": 77,
     "metadata": {},
     "output_type": "execute_result"
    }
   ],
   "source": [
    "import numpy as np\n",
    "x = torch.tensor([5.0,1,2,36,69,8,4])\n",
    "idxs = x.argsort()\n",
    "rank = torch.zeros_like(x)\n",
    "for i,e in enumerate(idxs):\n",
    "    rank[e] = i+1\n",
    "m = rank.max()\n",
    "pct = rank/m\n",
    "pct"
   ]
  },
  {
   "cell_type": "code",
   "execution_count": 78,
   "metadata": {},
   "outputs": [
    {
     "data": {
      "text/html": [
       "<div>\n",
       "<style scoped>\n",
       "    .dataframe tbody tr th:only-of-type {\n",
       "        vertical-align: middle;\n",
       "    }\n",
       "\n",
       "    .dataframe tbody tr th {\n",
       "        vertical-align: top;\n",
       "    }\n",
       "\n",
       "    .dataframe thead th {\n",
       "        text-align: right;\n",
       "    }\n",
       "</style>\n",
       "<table border=\"1\" class=\"dataframe\">\n",
       "  <thead>\n",
       "    <tr style=\"text-align: right;\">\n",
       "      <th></th>\n",
       "      <th>0</th>\n",
       "    </tr>\n",
       "  </thead>\n",
       "  <tbody>\n",
       "    <tr>\n",
       "      <th>0</th>\n",
       "      <td>0.571429</td>\n",
       "    </tr>\n",
       "    <tr>\n",
       "      <th>1</th>\n",
       "      <td>0.142857</td>\n",
       "    </tr>\n",
       "    <tr>\n",
       "      <th>2</th>\n",
       "      <td>0.285714</td>\n",
       "    </tr>\n",
       "    <tr>\n",
       "      <th>3</th>\n",
       "      <td>0.857143</td>\n",
       "    </tr>\n",
       "    <tr>\n",
       "      <th>4</th>\n",
       "      <td>1.000000</td>\n",
       "    </tr>\n",
       "    <tr>\n",
       "      <th>5</th>\n",
       "      <td>0.714286</td>\n",
       "    </tr>\n",
       "    <tr>\n",
       "      <th>6</th>\n",
       "      <td>0.428571</td>\n",
       "    </tr>\n",
       "  </tbody>\n",
       "</table>\n",
       "</div>"
      ],
      "text/plain": [
       "          0\n",
       "0  0.571429\n",
       "1  0.142857\n",
       "2  0.285714\n",
       "3  0.857143\n",
       "4  1.000000\n",
       "5  0.714286\n",
       "6  0.428571"
      ]
     },
     "execution_count": 78,
     "metadata": {},
     "output_type": "execute_result"
    }
   ],
   "source": [
    "import pandas as pd\n",
    "df_targets = pd.DataFrame(x.detach().numpy())\n",
    "ranked_outputs = df_targets.rank(pct=True, method=\"first\")\n",
    "ranked_outputs"
   ]
  },
  {
   "cell_type": "code",
   "execution_count": 85,
   "metadata": {},
   "outputs": [
    {
     "ename": "AttributeError",
     "evalue": "'Tensor' object has no attribute 'backwards'",
     "output_type": "error",
     "traceback": [
      "\u001b[1;31m---------------------------------------------------------------------------\u001b[0m",
      "\u001b[1;31mAttributeError\u001b[0m                            Traceback (most recent call last)",
      "\u001b[1;32m<ipython-input-85-7092f2a7f3e4>\u001b[0m in \u001b[0;36m<module>\u001b[1;34m\u001b[0m\n\u001b[0;32m      5\u001b[0m \u001b[0mboth\u001b[0m\u001b[1;33m.\u001b[0m\u001b[0mshape\u001b[0m\u001b[1;33m\u001b[0m\u001b[1;33m\u001b[0m\u001b[0m\n\u001b[0;32m      6\u001b[0m \u001b[0mres\u001b[0m \u001b[1;33m=\u001b[0m \u001b[1;36m1\u001b[0m\u001b[1;33m-\u001b[0m\u001b[0mtorch\u001b[0m\u001b[1;33m.\u001b[0m\u001b[0mcorrcoef\u001b[0m\u001b[1;33m(\u001b[0m\u001b[0mboth\u001b[0m\u001b[1;33m[\u001b[0m\u001b[1;33m:\u001b[0m\u001b[1;33m,\u001b[0m \u001b[1;33m:\u001b[0m\u001b[1;33m,\u001b[0m \u001b[1;36m0\u001b[0m\u001b[1;33m]\u001b[0m\u001b[1;33m)\u001b[0m\u001b[1;33m[\u001b[0m\u001b[1;36m0\u001b[0m\u001b[1;33m,\u001b[0m \u001b[1;36m1\u001b[0m\u001b[1;33m]\u001b[0m\u001b[1;33m\u001b[0m\u001b[1;33m\u001b[0m\u001b[0m\n\u001b[1;32m----> 7\u001b[1;33m \u001b[0mres\u001b[0m\u001b[1;33m.\u001b[0m\u001b[0mbackwards\u001b[0m\u001b[1;33m(\u001b[0m\u001b[1;33m)\u001b[0m\u001b[1;33m\u001b[0m\u001b[1;33m\u001b[0m\u001b[0m\n\u001b[0m",
      "\u001b[1;31mAttributeError\u001b[0m: 'Tensor' object has no attribute 'backwards'"
     ]
    }
   ],
   "source": [
    "rank = torch.zeros_like(x, dtype=torch.long)[:, None]\n",
    "rank[idxs[:, None]] = torch.arange(start=1, end=len(x)+1)[:, None, None]\n",
    "pct2 = rank/rank.max()\n",
    "both = torch.stack([pct[:, None], pct2])\n",
    "both.shape\n",
    "res = 1-torch.corrcoef(both[:, :, 0])[0, 1]\n",
    "res.backwards()"
   ]
  },
  {
   "cell_type": "code",
   "execution_count": 60,
   "metadata": {},
   "outputs": [
    {
     "data": {
      "text/plain": [
       "tensor([1, 2, 3, 4, 5, 6])"
      ]
     },
     "execution_count": 60,
     "metadata": {},
     "output_type": "execute_result"
    }
   ],
   "source": [
    "torch.arange(start=1, end=len(x))"
   ]
  },
  {
   "cell_type": "code",
   "execution_count": 71,
   "metadata": {},
   "outputs": [
    {
     "data": {
      "text/plain": [
       "torch.Size([7])"
      ]
     },
     "execution_count": 71,
     "metadata": {},
     "output_type": "execute_result"
    }
   ],
   "source": [
    "x.shape"
   ]
  },
  {
   "cell_type": "code",
   "execution_count": 97,
   "metadata": {},
   "outputs": [],
   "source": [
    "from torch.nn.modules.loss import _Loss\n",
    "from torch import Tensor\n",
    "\n",
    "class CorrLoss(_Loss):\n",
    "    def __init__(self) -> None:\n",
    "        super(CorrLoss, self).__init__()\n",
    "\n",
    "    def forward(self, input: Tensor, target: Tensor) -> Tensor:\n",
    "        idxs = input.argsort()\n",
    "        rank = torch.zeros_like(input)\n",
    "        idxs2 = torch.arange(start=1, end=len(input)+1)[:, None, None].type(torch.float)\n",
    "        rank[idxs] = idxs2\n",
    "        pct = rank/rank.max()\n",
    "        both = torch.stack([target, pct])\n",
    "        return 1-torch.corrcoef(both[:, :, 0])[0, 1]"
   ]
  },
  {
   "cell_type": "code",
   "execution_count": 98,
   "metadata": {},
   "outputs": [],
   "source": [
    "loss = CorrLoss()"
   ]
  },
  {
   "cell_type": "code",
   "execution_count": 101,
   "metadata": {},
   "outputs": [],
   "source": [
    "output = torch.Tensor([1,2,3,4])[:, None]\n",
    "target = torch.Tensor([4,5,6,7])[:, None]\n",
    "target.requires_grad = True\n",
    "l = loss(output, target)\n",
    "l.backward()"
   ]
  },
  {
   "cell_type": "code",
   "execution_count": null,
   "metadata": {},
   "outputs": [],
   "source": []
  }
 ],
 "metadata": {
  "interpreter": {
   "hash": "42588fd11209419b7c81abe23e31a1d2101f60811b02170c268e57ebb57d5d9a"
  },
  "kernelspec": {
   "display_name": "Python 3",
   "language": "python",
   "name": "python3"
  },
  "language_info": {
   "codemirror_mode": {
    "name": "ipython",
    "version": 3
   },
   "file_extension": ".py",
   "mimetype": "text/x-python",
   "name": "python",
   "nbconvert_exporter": "python",
   "pygments_lexer": "ipython3",
   "version": "3.8.8"
  }
 },
 "nbformat": 4,
 "nbformat_minor": 4
}
