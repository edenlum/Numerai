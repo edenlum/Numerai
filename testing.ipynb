{
 "cells": [
  {
   "cell_type": "code",
   "execution_count": 5,
   "metadata": {},
   "outputs": [],
   "source": [
    "datalink = \"https://numerai-public-datasets.s3-us-west-2.amazonaws.com\""
   ]
  },
  {
   "cell_type": "code",
   "execution_count": 8,
   "metadata": {},
   "outputs": [
    {
     "name": "stdout",
     "output_type": "stream",
     "text": [
      "Requirement already satisfied: urllib3 in c:\\users\\user\\anaconda3\\lib\\site-packages (1.26.4)\n"
     ]
    }
   ],
   "source": [
    "!pip install urllib3"
   ]
  },
  {
   "cell_type": "code",
   "execution_count": 15,
   "metadata": {},
   "outputs": [
    {
     "data": {
      "text/plain": [
       "[OrderedDict([('Key', 'latest_numerai_datasets.zip'),\n",
       "              ('LastModified', '2021-11-06T17:55:45.000Z'),\n",
       "              ('ETag', '\"46f0b4b54088e504ed4b83fb0ba500dd-52\"'),\n",
       "              ('Size', '429052097'),\n",
       "              ('StorageClass', 'STANDARD')]),\n",
       " OrderedDict([('Key', 'latest_numerai_example_predictions_data.csv'),\n",
       "              ('LastModified', '2021-11-06T17:58:51.000Z'),\n",
       "              ('ETag', '\"b3fa609c3f98df96136312ead805679a-7\"'),\n",
       "              ('Size', '51000642'),\n",
       "              ('StorageClass', 'STANDARD')]),\n",
       " OrderedDict([('Key', 'latest_numerai_example_predictions_data.csv.xz'),\n",
       "              ('LastModified', '2021-11-06T17:58:53.000Z'),\n",
       "              ('ETag', '\"4e1898afe9af765e22857687c449b12f-3\"'),\n",
       "              ('Size', '21025604'),\n",
       "              ('StorageClass', 'STANDARD')]),\n",
       " OrderedDict([('Key', 'latest_numerai_example_predictions_data.parquet'),\n",
       "              ('LastModified', '2021-11-06T17:58:55.000Z'),\n",
       "              ('ETag', '\"2572ea5a2ff0412eaa849e55504589c9-6\"'),\n",
       "              ('Size', '45175155'),\n",
       "              ('StorageClass', 'STANDARD')]),\n",
       " OrderedDict([('Key', 'latest_numerai_live_data.csv'),\n",
       "              ('LastModified', '2021-11-06T17:55:56.000Z'),\n",
       "              ('ETag', '\"b4634a1c1ad323f8fd6120aec88395ca\"'),\n",
       "              ('Size', '7447513'),\n",
       "              ('StorageClass', 'STANDARD')]),\n",
       " OrderedDict([('Key', 'latest_numerai_live_data.csv.xz'),\n",
       "              ('LastModified', '2021-11-06T17:55:57.000Z'),\n",
       "              ('ETag', '\"a71bc0a4b66b298ec9936ffb243bae80\"'),\n",
       "              ('Size', '632692'),\n",
       "              ('StorageClass', 'STANDARD')]),\n",
       " OrderedDict([('Key', 'latest_numerai_live_data.parquet'),\n",
       "              ('LastModified', '2021-11-06T17:55:58.000Z'),\n",
       "              ('ETag', '\"dd7fd44a360a5646d41e95a76ba8ee68\"'),\n",
       "              ('Size', '1045904'),\n",
       "              ('StorageClass', 'STANDARD')]),\n",
       " OrderedDict([('Key', 'latest_numerai_max_test_era_data.csv'),\n",
       "              ('LastModified', '2021-11-06T17:57:32.000Z'),\n",
       "              ('ETag', '\"7906c8f11033f003053fe197d9499f1b\"'),\n",
       "              ('Size', '7437773'),\n",
       "              ('StorageClass', 'STANDARD')]),\n",
       " OrderedDict([('Key', 'latest_numerai_max_test_era_data.csv.xz'),\n",
       "              ('LastModified', '2021-11-06T17:57:33.000Z'),\n",
       "              ('ETag', '\"7a956d966d0c6286af487b8397a5521f\"'),\n",
       "              ('Size', '631260'),\n",
       "              ('StorageClass', 'STANDARD')]),\n",
       " OrderedDict([('Key', 'latest_numerai_max_test_era_data.parquet'),\n",
       "              ('LastModified', '2021-11-06T17:57:34.000Z'),\n",
       "              ('ETag', '\"8aa860d0cf471e080227fc7fadb8220a\"'),\n",
       "              ('Size', '1043589'),\n",
       "              ('StorageClass', 'STANDARD')]),\n",
       " OrderedDict([('Key', 'latest_numerai_test_data.csv'),\n",
       "              ('LastModified', '2021-11-06T17:56:31.000Z'),\n",
       "              ('ETag', '\"55f4bfd84081a7566a98124b4dd20067-284\"'),\n",
       "              ('Size', '2376533953'),\n",
       "              ('StorageClass', 'STANDARD')]),\n",
       " OrderedDict([('Key', 'latest_numerai_test_data.csv.xz'),\n",
       "              ('LastModified', '2021-11-06T17:57:22.000Z'),\n",
       "              ('ETag', '\"9a85074594c6cc4446cf897f5f343b32-20\"'),\n",
       "              ('Size', '162307616'),\n",
       "              ('StorageClass', 'STANDARD')]),\n",
       " OrderedDict([('Key', 'latest_numerai_test_data.parquet'),\n",
       "              ('LastModified', '2021-11-06T17:57:26.000Z'),\n",
       "              ('ETag', '\"2e631049294df208598e37cf6bd4bd9f-30\"'),\n",
       "              ('Size', '248528657'),\n",
       "              ('StorageClass', 'STANDARD')]),\n",
       " OrderedDict([('Key', 'latest_numerai_tournament_data.csv'),\n",
       "              ('LastModified', '2021-11-06T17:57:34.000Z'),\n",
       "              ('ETag', '\"fd348887e8901000e41405a561157267-308\"'),\n",
       "              ('Size', '2576640254'),\n",
       "              ('StorageClass', 'STANDARD')]),\n",
       " OrderedDict([('Key', 'latest_numerai_tournament_data.csv.xz'),\n",
       "              ('LastModified', '2021-11-06T17:58:32.000Z'),\n",
       "              ('ETag', '\"d006033b4d91120cecb50d5187ecd972-22\"'),\n",
       "              ('Size', '178132932'),\n",
       "              ('StorageClass', 'STANDARD')]),\n",
       " OrderedDict([('Key', 'latest_numerai_tournament_data.parquet'),\n",
       "              ('LastModified', '2021-11-06T17:58:37.000Z'),\n",
       "              ('ETag', '\"415678bd8ae89219c1051f53823d610a-31\"'),\n",
       "              ('Size', '254201192'),\n",
       "              ('StorageClass', 'STANDARD')]),\n",
       " OrderedDict([('Key', 'latest_numerai_tournament_ids_data.csv'),\n",
       "              ('LastModified', '2021-11-06T17:58:45.000Z'),\n",
       "              ('ETag', '\"2e0e82faf19ed6c54497f258f72f7ae6-4\"'),\n",
       "              ('Size', '31525245'),\n",
       "              ('StorageClass', 'STANDARD')]),\n",
       " OrderedDict([('Key', 'latest_numerai_tournament_ids_data.csv.xz'),\n",
       "              ('LastModified', '2021-11-06T17:58:47.000Z'),\n",
       "              ('ETag', '\"56ec7fca3cd85a71ae34b60cc551a605-2\"'),\n",
       "              ('Size', '13526692'),\n",
       "              ('StorageClass', 'STANDARD')]),\n",
       " OrderedDict([('Key', 'latest_numerai_tournament_ids_data.parquet'),\n",
       "              ('LastModified', '2021-11-06T17:58:49.000Z'),\n",
       "              ('ETag', '\"f94a1953d42408acb1c1974bc7d18837-5\"'),\n",
       "              ('Size', '37199306'),\n",
       "              ('StorageClass', 'STANDARD')]),\n",
       " OrderedDict([('Key', 'latest_numerai_training_data.csv'),\n",
       "              ('LastModified', '2021-11-06T17:55:58.000Z'),\n",
       "              ('ETag', '\"baa75c8d718856e73f78c9e472e64b1e-84\"'),\n",
       "              ('Size', '697396113'),\n",
       "              ('StorageClass', 'STANDARD')]),\n",
       " OrderedDict([('Key', 'latest_numerai_training_data.csv.xz'),\n",
       "              ('LastModified', '2021-11-06T17:56:14.000Z'),\n",
       "              ('ETag', '\"9889818ec2ebce54196b503d4893925b-7\"'),\n",
       "              ('Size', '54845776'),\n",
       "              ('StorageClass', 'STANDARD')]),\n",
       " OrderedDict([('Key', 'latest_numerai_training_data.parquet'),\n",
       "              ('LastModified', '2021-11-06T17:56:16.000Z'),\n",
       "              ('ETag', '\"f2fe23cedb6dff67cf8abc72dc026f06-9\"'),\n",
       "              ('Size', '69175963'),\n",
       "              ('StorageClass', 'STANDARD')]),\n",
       " OrderedDict([('Key', 'latest_numerai_validation_data.csv'),\n",
       "              ('LastModified', '2021-11-06T17:56:22.000Z'),\n",
       "              ('ETag', '\"f26c79b4ae8132a9eb7e386387eaa2ae-23\"'),\n",
       "              ('Size', '192671390'),\n",
       "              ('StorageClass', 'STANDARD')]),\n",
       " OrderedDict([('Key', 'latest_numerai_validation_data.csv.xz'),\n",
       "              ('LastModified', '2021-11-06T17:56:27.000Z'),\n",
       "              ('ETag', '\"4cbbdc928397958b79c3fd98b80d51fa-2\"'),\n",
       "              ('Size', '15254940'),\n",
       "              ('StorageClass', 'STANDARD')]),\n",
       " OrderedDict([('Key', 'latest_numerai_validation_data.parquet'),\n",
       "              ('LastModified', '2021-11-06T17:56:29.000Z'),\n",
       "              ('ETag', '\"ad228dce9cf3ee2205f5d1a0b975b7d8-3\"'),\n",
       "              ('Size', '20651189'),\n",
       "              ('StorageClass', 'STANDARD')])]"
      ]
     },
     "execution_count": 15,
     "metadata": {},
     "output_type": "execute_result"
    }
   ],
   "source": [
    "import requests\n",
    "import xmltodict\n",
    "\n",
    "url = datalink\n",
    "response = requests.get(url)\n",
    "data = xmltodict.parse(response.content)\n",
    "data['ListBucketResult']['Contents']"
   ]
  },
  {
   "cell_type": "code",
   "execution_count": null,
   "metadata": {},
   "outputs": [],
   "source": []
  }
 ],
 "metadata": {
  "interpreter": {
   "hash": "42588fd11209419b7c81abe23e31a1d2101f60811b02170c268e57ebb57d5d9a"
  },
  "kernelspec": {
   "display_name": "Python 3.8.8 64-bit ('base': conda)",
   "name": "python3"
  },
  "language_info": {
   "codemirror_mode": {
    "name": "ipython",
    "version": 3
   },
   "file_extension": ".py",
   "mimetype": "text/x-python",
   "name": "python",
   "nbconvert_exporter": "python",
   "pygments_lexer": "ipython3",
   "version": "3.8.8"
  },
  "orig_nbformat": 4
 },
 "nbformat": 4,
 "nbformat_minor": 2
}
